{
 "cells": [
  {
   "cell_type": "code",
   "execution_count": 1,
   "metadata": {},
   "outputs": [
    {
     "name": "stderr",
     "output_type": "stream",
     "text": [
      "/opt/anaconda3/lib/python3.7/site-packages/statsmodels/tools/_testing.py:19: FutureWarning: pandas.util.testing is deprecated. Use the functions in the public API at pandas.testing instead.\n",
      "  import pandas.util.testing as tm\n"
     ]
    }
   ],
   "source": [
    "import pyodbc\n",
    "import pandas as pd\n",
    "import seaborn as sns\n",
    "\n",
    "server = \"localhost,5432\"\n",
    "db_name = \"ModMon\"\n",
    "driver = \"/usr/local/lib/psqlodbcw.so\"\n",
    "\n",
    "cnxn = pyodbc.connect(\"DRIVER={\" + driver + \"};SERVER=\" + server + \";DATABASE=\" + db_name + \";Trusted_Connection=yes;\")\n",
    "cursor = cnxn.cursor()"
   ]
  },
  {
   "cell_type": "code",
   "execution_count": 2,
   "metadata": {},
   "outputs": [
    {
     "data": {
      "text/html": [
       "<div>\n",
       "<style scoped>\n",
       "    .dataframe tbody tr th:only-of-type {\n",
       "        vertical-align: middle;\n",
       "    }\n",
       "\n",
       "    .dataframe tbody tr th {\n",
       "        vertical-align: top;\n",
       "    }\n",
       "\n",
       "    .dataframe thead th {\n",
       "        text-align: right;\n",
       "    }\n",
       "</style>\n",
       "<table border=\"1\" class=\"dataframe\">\n",
       "  <thead>\n",
       "    <tr style=\"text-align: right;\">\n",
       "      <th></th>\n",
       "      <th>modelid</th>\n",
       "      <th>name</th>\n",
       "      <th>teamname</th>\n",
       "      <th>description</th>\n",
       "      <th>question</th>\n",
       "    </tr>\n",
       "  </thead>\n",
       "  <tbody>\n",
       "    <tr>\n",
       "      <th>0</th>\n",
       "      <td>1</td>\n",
       "      <td>WineQuality1</td>\n",
       "      <td>REG</td>\n",
       "      <td>Model to assess wine quality</td>\n",
       "      <td>Investigate wine quality dataset</td>\n",
       "    </tr>\n",
       "    <tr>\n",
       "      <th>1</th>\n",
       "      <td>2</td>\n",
       "      <td>wine-lightgbm</td>\n",
       "      <td>REG2</td>\n",
       "      <td>Model to assess wine quality</td>\n",
       "      <td>Investigate WHITE wine quality dataset</td>\n",
       "    </tr>\n",
       "  </tbody>\n",
       "</table>\n",
       "</div>"
      ],
      "text/plain": [
       "   modelid           name teamname                   description  \\\n",
       "0        1   WineQuality1      REG  Model to assess wine quality   \n",
       "1        2  wine-lightgbm     REG2  Model to assess wine quality   \n",
       "\n",
       "                                 question  \n",
       "0        Investigate wine quality dataset  \n",
       "1  Investigate WHITE wine quality dataset  "
      ]
     },
     "execution_count": 2,
     "metadata": {},
     "output_type": "execute_result"
    }
   ],
   "source": [
    "models = pd.read_sql('SELECT models.modelID, models.name, models.teamName, models.description, researchQuestions.description AS question FROM models, researchQuestions WHERE models.questionID=researchQuestions.questionID;', cnxn)\n",
    "models"
   ]
  },
  {
   "cell_type": "markdown",
   "metadata": {},
   "source": [
    "Visualisation ideas\n",
    "=="
   ]
  },
  {
   "cell_type": "code",
   "execution_count": 3,
   "metadata": {},
   "outputs": [
    {
     "data": {
      "text/html": [
       "<div>\n",
       "<style scoped>\n",
       "    .dataframe tbody tr th:only-of-type {\n",
       "        vertical-align: middle;\n",
       "    }\n",
       "\n",
       "    .dataframe tbody tr th {\n",
       "        vertical-align: top;\n",
       "    }\n",
       "\n",
       "    .dataframe thead th {\n",
       "        text-align: right;\n",
       "    }\n",
       "</style>\n",
       "<table border=\"1\" class=\"dataframe\">\n",
       "  <thead>\n",
       "    <tr style=\"text-align: right;\">\n",
       "      <th></th>\n",
       "      <th>modelid</th>\n",
       "      <th>modelversion</th>\n",
       "      <th>testdatasetid</th>\n",
       "      <th>isreferenceresult</th>\n",
       "      <th>runtime</th>\n",
       "      <th>runid</th>\n",
       "      <th>metric</th>\n",
       "      <th>value</th>\n",
       "      <th>valueerror</th>\n",
       "      <th>resultmessage</th>\n",
       "    </tr>\n",
       "  </thead>\n",
       "  <tbody>\n",
       "    <tr>\n",
       "      <th>0</th>\n",
       "      <td>1</td>\n",
       "      <td>1.0.0</td>\n",
       "      <td>2</td>\n",
       "      <td>1</td>\n",
       "      <td>2020-07-11</td>\n",
       "      <td>1</td>\n",
       "      <td>training_time</td>\n",
       "      <td>0.190425</td>\n",
       "      <td>None</td>\n",
       "      <td>None</td>\n",
       "    </tr>\n",
       "    <tr>\n",
       "      <th>1</th>\n",
       "      <td>1</td>\n",
       "      <td>1.0.0</td>\n",
       "      <td>2</td>\n",
       "      <td>1</td>\n",
       "      <td>2020-07-11</td>\n",
       "      <td>1</td>\n",
       "      <td>r2</td>\n",
       "      <td>-0.026282</td>\n",
       "      <td>None</td>\n",
       "      <td>None</td>\n",
       "    </tr>\n",
       "    <tr>\n",
       "      <th>2</th>\n",
       "      <td>1</td>\n",
       "      <td>1.0.0</td>\n",
       "      <td>2</td>\n",
       "      <td>1</td>\n",
       "      <td>2020-07-11</td>\n",
       "      <td>1</td>\n",
       "      <td>mse</td>\n",
       "      <td>0.803185</td>\n",
       "      <td>None</td>\n",
       "      <td>None</td>\n",
       "    </tr>\n",
       "    <tr>\n",
       "      <th>3</th>\n",
       "      <td>1</td>\n",
       "      <td>1.0.0</td>\n",
       "      <td>2</td>\n",
       "      <td>1</td>\n",
       "      <td>2020-07-11</td>\n",
       "      <td>1</td>\n",
       "      <td>mar</td>\n",
       "      <td>0.625153</td>\n",
       "      <td>None</td>\n",
       "      <td>None</td>\n",
       "    </tr>\n",
       "    <tr>\n",
       "      <th>4</th>\n",
       "      <td>2</td>\n",
       "      <td>0.0.1</td>\n",
       "      <td>4</td>\n",
       "      <td>1</td>\n",
       "      <td>2020-07-11</td>\n",
       "      <td>2</td>\n",
       "      <td>correct_class</td>\n",
       "      <td>0.742258</td>\n",
       "      <td>None</td>\n",
       "      <td>None</td>\n",
       "    </tr>\n",
       "  </tbody>\n",
       "</table>\n",
       "</div>"
      ],
      "text/plain": [
       "   modelid modelversion  testdatasetid isreferenceresult    runtime  runid  \\\n",
       "0        1        1.0.0              2                 1 2020-07-11      1   \n",
       "1        1        1.0.0              2                 1 2020-07-11      1   \n",
       "2        1        1.0.0              2                 1 2020-07-11      1   \n",
       "3        1        1.0.0              2                 1 2020-07-11      1   \n",
       "4        2        0.0.1              4                 1 2020-07-11      2   \n",
       "\n",
       "          metric     value valueerror resultmessage  \n",
       "0  training_time  0.190425       None          None  \n",
       "1             r2 -0.026282       None          None  \n",
       "2            mse  0.803185       None          None  \n",
       "3            mar  0.625153       None          None  \n",
       "4  correct_class  0.742258       None          None  "
      ]
     },
     "execution_count": 3,
     "metadata": {},
     "output_type": "execute_result"
    }
   ],
   "source": [
    "results = pd.read_sql('SELECT * FROM results;', cnxn)\n",
    "results.head()"
   ]
  },
  {
   "cell_type": "markdown",
   "metadata": {},
   "source": [
    "## View a particular model version - all metrics across time\n",
    "\n",
    "- Use runID as a proxy for time"
   ]
  },
  {
   "cell_type": "code",
   "execution_count": 8,
   "metadata": {},
   "outputs": [],
   "source": [
    "plot1_results = pd.read_sql(\"SELECT * FROM results WHERE modelID=1 AND modelVersion='1.0.0';\", cnxn)"
   ]
  },
  {
   "cell_type": "code",
   "execution_count": 14,
   "metadata": {},
   "outputs": [
    {
     "data": {
      "text/plain": [
       "0              mar\n",
       "1              mse\n",
       "2               r2\n",
       "3    training_time\n",
       "4              mar\n",
       "5              mse\n",
       "6               r2\n",
       "Name: metric, dtype: object"
      ]
     },
     "execution_count": 14,
     "metadata": {},
     "output_type": "execute_result"
    }
   ],
   "source": [
    "plot1_results['metric']"
   ]
  },
  {
   "cell_type": "code",
   "execution_count": 9,
   "metadata": {},
   "outputs": [
    {
     "data": {
      "text/plain": [
       "<seaborn.axisgrid.FacetGrid at 0x7fc980eecd50>"
      ]
     },
     "execution_count": 9,
     "metadata": {},
     "output_type": "execute_result"
    },
    {
     "data": {
      "image/png": "[encoded data removed]",
      "text/plain": [
       "<Figure size 462.5x360 with 1 Axes>"
      ]
     },
     "metadata": {
      "needs_background": "light"
     },
     "output_type": "display_data"
    }
   ],
   "source": [
    "sns.relplot(x='runid', y='value', hue='metric', data=plot1_results)"
   ]
  },
  {
   "cell_type": "markdown",
   "metadata": {},
   "source": [
    "## View a particular model - all metrics across versions"
   ]
  },
  {
   "cell_type": "code",
   "execution_count": 10,
   "metadata": {},
   "outputs": [],
   "source": [
    "plot2_results = pd.read_sql(\"SELECT * FROM results WHERE modelID=1;\", cnxn)"
   ]
  },
  {
   "cell_type": "code",
   "execution_count": 11,
   "metadata": {},
   "outputs": [
    {
     "data": {
      "text/plain": [
       "<seaborn.axisgrid.FacetGrid at 0x7fc980f72350>"
      ]
     },
     "execution_count": 11,
     "metadata": {},
     "output_type": "execute_result"
    },
    {
     "data": {
      "image/png": "[encoded data removed]",
      "text/plain": [
       "<Figure size 462.5x360 with 1 Axes>"
      ]
     },
     "metadata": {
      "needs_background": "light"
     },
     "output_type": "display_data"
    }
   ],
   "source": [
    "sns.catplot(x='modelversion', y='value', hue='metric', kind='swarm', data=plot2_results)"
   ]
  },
  {
   "cell_type": "markdown",
   "metadata": {},
   "source": [
    "## View a particular research question - all models for a metric common to all across time\n",
    "\n",
    "- Also inlcude model versions?"
   ]
  },
  {
   "cell_type": "code",
   "execution_count": null,
   "metadata": {},
   "outputs": [],
   "source": [
    "###"
   ]
  },
  {
   "cell_type": "markdown",
   "metadata": {},
   "source": [
    "## View a particular metric for a model across time and for different versions"
   ]
  },
  {
   "cell_type": "code",
   "execution_count": 12,
   "metadata": {},
   "outputs": [
    {
     "data": {
      "text/html": [
       "<div>\n",
       "<style scoped>\n",
       "    .dataframe tbody tr th:only-of-type {\n",
       "        vertical-align: middle;\n",
       "    }\n",
       "\n",
       "    .dataframe tbody tr th {\n",
       "        vertical-align: top;\n",
       "    }\n",
       "\n",
       "    .dataframe thead th {\n",
       "        text-align: right;\n",
       "    }\n",
       "</style>\n",
       "<table border=\"1\" class=\"dataframe\">\n",
       "  <thead>\n",
       "    <tr style=\"text-align: right;\">\n",
       "      <th></th>\n",
       "      <th>modelid</th>\n",
       "      <th>modelversion</th>\n",
       "      <th>testdatasetid</th>\n",
       "      <th>isreferenceresult</th>\n",
       "      <th>runtime</th>\n",
       "      <th>runid</th>\n",
       "      <th>metric</th>\n",
       "      <th>value</th>\n",
       "      <th>valueerror</th>\n",
       "      <th>resultmessage</th>\n",
       "    </tr>\n",
       "  </thead>\n",
       "  <tbody>\n",
       "    <tr>\n",
       "      <th>0</th>\n",
       "      <td>1</td>\n",
       "      <td>1.0.0</td>\n",
       "      <td>2</td>\n",
       "      <td>1</td>\n",
       "      <td>2020-07-11 00:00:00</td>\n",
       "      <td>1</td>\n",
       "      <td>r2</td>\n",
       "      <td>-0.026282</td>\n",
       "      <td>None</td>\n",
       "      <td>None</td>\n",
       "    </tr>\n",
       "    <tr>\n",
       "      <th>1</th>\n",
       "      <td>1</td>\n",
       "      <td>1.0.0</td>\n",
       "      <td>5</td>\n",
       "      <td>0</td>\n",
       "      <td>2020-07-02 14:13:14</td>\n",
       "      <td>3</td>\n",
       "      <td>r2</td>\n",
       "      <td>-0.007283</td>\n",
       "      <td>None</td>\n",
       "      <td>None</td>\n",
       "    </tr>\n",
       "    <tr>\n",
       "      <th>2</th>\n",
       "      <td>1</td>\n",
       "      <td>1.1.0</td>\n",
       "      <td>5</td>\n",
       "      <td>0</td>\n",
       "      <td>2020-07-02 14:14:47</td>\n",
       "      <td>7</td>\n",
       "      <td>r2</td>\n",
       "      <td>-0.023084</td>\n",
       "      <td>None</td>\n",
       "      <td>None</td>\n",
       "    </tr>\n",
       "    <tr>\n",
       "      <th>3</th>\n",
       "      <td>1</td>\n",
       "      <td>1.1.0</td>\n",
       "      <td>7</td>\n",
       "      <td>1</td>\n",
       "      <td>2020-07-11 00:00:00</td>\n",
       "      <td>5</td>\n",
       "      <td>r2</td>\n",
       "      <td>-0.007283</td>\n",
       "      <td>None</td>\n",
       "      <td>None</td>\n",
       "    </tr>\n",
       "    <tr>\n",
       "      <th>4</th>\n",
       "      <td>1</td>\n",
       "      <td>1.1.1</td>\n",
       "      <td>5</td>\n",
       "      <td>0</td>\n",
       "      <td>2020-07-02 14:22:05</td>\n",
       "      <td>12</td>\n",
       "      <td>r2</td>\n",
       "      <td>-0.014353</td>\n",
       "      <td>None</td>\n",
       "      <td>None</td>\n",
       "    </tr>\n",
       "    <tr>\n",
       "      <th>5</th>\n",
       "      <td>1</td>\n",
       "      <td>1.1.1</td>\n",
       "      <td>13</td>\n",
       "      <td>1</td>\n",
       "      <td>2020-07-11 00:00:00</td>\n",
       "      <td>10</td>\n",
       "      <td>r2</td>\n",
       "      <td>-0.023084</td>\n",
       "      <td>None</td>\n",
       "      <td>None</td>\n",
       "    </tr>\n",
       "    <tr>\n",
       "      <th>6</th>\n",
       "      <td>1</td>\n",
       "      <td>1.1.2</td>\n",
       "      <td>5</td>\n",
       "      <td>0</td>\n",
       "      <td>2020-07-02 14:41:42</td>\n",
       "      <td>16</td>\n",
       "      <td>r2</td>\n",
       "      <td>-0.025926</td>\n",
       "      <td>None</td>\n",
       "      <td>None</td>\n",
       "    </tr>\n",
       "    <tr>\n",
       "      <th>7</th>\n",
       "      <td>1</td>\n",
       "      <td>1.1.2</td>\n",
       "      <td>17</td>\n",
       "      <td>1</td>\n",
       "      <td>2020-07-11 00:00:00</td>\n",
       "      <td>14</td>\n",
       "      <td>r2</td>\n",
       "      <td>-0.014353</td>\n",
       "      <td>None</td>\n",
       "      <td>None</td>\n",
       "    </tr>\n",
       "  </tbody>\n",
       "</table>\n",
       "</div>"
      ],
      "text/plain": [
       "   modelid modelversion  testdatasetid isreferenceresult             runtime  \\\n",
       "0        1        1.0.0              2                 1 2020-07-11 00:00:00   \n",
       "1        1        1.0.0              5                 0 2020-07-02 14:13:14   \n",
       "2        1        1.1.0              5                 0 2020-07-02 14:14:47   \n",
       "3        1        1.1.0              7                 1 2020-07-11 00:00:00   \n",
       "4        1        1.1.1              5                 0 2020-07-02 14:22:05   \n",
       "5        1        1.1.1             13                 1 2020-07-11 00:00:00   \n",
       "6        1        1.1.2              5                 0 2020-07-02 14:41:42   \n",
       "7        1        1.1.2             17                 1 2020-07-11 00:00:00   \n",
       "\n",
       "   runid metric     value valueerror resultmessage  \n",
       "0      1     r2 -0.026282       None          None  \n",
       "1      3     r2 -0.007283       None          None  \n",
       "2      7     r2 -0.023084       None          None  \n",
       "3      5     r2 -0.007283       None          None  \n",
       "4     12     r2 -0.014353       None          None  \n",
       "5     10     r2 -0.023084       None          None  \n",
       "6     16     r2 -0.025926       None          None  \n",
       "7     14     r2 -0.014353       None          None  "
      ]
     },
     "execution_count": 12,
     "metadata": {},
     "output_type": "execute_result"
    }
   ],
   "source": [
    "plot3_results = pd.read_sql(\"SELECT * FROM results WHERE modelID=1 AND metric='r2';\", cnxn)\n",
    "plot3_results"
   ]
  },
  {
   "cell_type": "code",
   "execution_count": 13,
   "metadata": {},
   "outputs": [
    {
     "data": {
      "text/plain": [
       "<seaborn.axisgrid.FacetGrid at 0x7fc981154d50>"
      ]
     },
     "execution_count": 13,
     "metadata": {},
     "output_type": "execute_result"
    },
    {
     "data": {
      "image/png": "[encoded data removed]",
      "text/plain": [
       "<Figure size 463.625x360 with 1 Axes>"
      ]
     },
     "metadata": {
      "needs_background": "light"
     },
     "output_type": "display_data"
    }
   ],
   "source": [
    "sns.relplot(x='runid', y='value', hue='modelversion', data=plot3_results)"
   ]
  }
 ],
 "metadata": {
  "kernelspec": {
   "display_name": "Python 3",
   "language": "python",
   "name": "python3"
  },
  "language_info": {
   "codemirror_mode": {
    "name": "ipython",
    "version": 3
   },
   "file_extension": ".py",
   "mimetype": "text/x-python",
   "name": "python",
   "nbconvert_exporter": "python",
   "pygments_lexer": "ipython3",
   "version": "3.7.4"
  }
 },
 "nbformat": 4,
 "nbformat_minor": 2
}
