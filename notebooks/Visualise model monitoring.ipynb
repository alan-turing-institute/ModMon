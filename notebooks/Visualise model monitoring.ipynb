{
 "cells": [
  {
   "cell_type": "code",
   "execution_count": 1,
   "metadata": {},
   "outputs": [
    {
     "name": "stderr",
     "output_type": "stream",
     "text": [
      "/opt/anaconda3/lib/python3.7/site-packages/statsmodels/tools/_testing.py:19: FutureWarning: pandas.util.testing is deprecated. Use the functions in the public API at pandas.testing instead.\n",
      "  import pandas.util.testing as tm\n"
     ]
    }
   ],
   "source": [
    "import pyodbc\n",
    "import pandas as pd\n",
    "import seaborn as sns\n",
    "\n",
    "server = \"localhost,5432\"\n",
    "db_name = \"ModMon\"\n",
    "driver = \"/usr/local/lib/psqlodbcw.so\"\n",
    "\n",
    "cnxn = pyodbc.connect(\"DRIVER={\" + driver + \"};SERVER=\" + server + \";DATABASE=\" + db_name + \";Trusted_Connection=yes;\")\n",
    "cursor = cnxn.cursor()"
   ]
  },
  {
   "cell_type": "code",
   "execution_count": 2,
   "metadata": {},
   "outputs": [
    {
     "data": {
      "text/html": [
       "<div>\n",
       "<style scoped>\n",
       "    .dataframe tbody tr th:only-of-type {\n",
       "        vertical-align: middle;\n",
       "    }\n",
       "\n",
       "    .dataframe tbody tr th {\n",
       "        vertical-align: top;\n",
       "    }\n",
       "\n",
       "    .dataframe thead th {\n",
       "        text-align: right;\n",
       "    }\n",
       "</style>\n",
       "<table border=\"1\" class=\"dataframe\">\n",
       "  <thead>\n",
       "    <tr style=\"text-align: right;\">\n",
       "      <th></th>\n",
       "      <th>modelid</th>\n",
       "      <th>name</th>\n",
       "      <th>teamname</th>\n",
       "      <th>description</th>\n",
       "      <th>question</th>\n",
       "    </tr>\n",
       "  </thead>\n",
       "  <tbody>\n",
       "    <tr>\n",
       "      <th>0</th>\n",
       "      <td>1</td>\n",
       "      <td>synpuf_stats</td>\n",
       "      <td>REG</td>\n",
       "      <td>Not really a model, descriptive stats</td>\n",
       "      <td>Descriptive stats for Synpuf database</td>\n",
       "    </tr>\n",
       "  </tbody>\n",
       "</table>\n",
       "</div>"
      ],
      "text/plain": [
       "   modelid          name teamname                            description  \\\n",
       "0        1  synpuf_stats      REG  Not really a model, descriptive stats   \n",
       "\n",
       "                                question  \n",
       "0  Descriptive stats for Synpuf database  "
      ]
     },
     "execution_count": 2,
     "metadata": {},
     "output_type": "execute_result"
    }
   ],
   "source": [
    "models = pd.read_sql('SELECT models.modelID, models.name, models.teamName, models.description, researchQuestions.description AS question FROM models, researchQuestions WHERE models.questionID=researchQuestions.questionID;', cnxn)\n",
    "models"
   ]
  },
  {
   "cell_type": "markdown",
   "metadata": {},
   "source": [
    "Visualisation ideas\n",
    "=="
   ]
  },
  {
   "cell_type": "code",
   "execution_count": 3,
   "metadata": {},
   "outputs": [
    {
     "data": {
      "text/html": [
       "<div>\n",
       "<style scoped>\n",
       "    .dataframe tbody tr th:only-of-type {\n",
       "        vertical-align: middle;\n",
       "    }\n",
       "\n",
       "    .dataframe tbody tr th {\n",
       "        vertical-align: top;\n",
       "    }\n",
       "\n",
       "    .dataframe thead th {\n",
       "        text-align: right;\n",
       "    }\n",
       "</style>\n",
       "<table border=\"1\" class=\"dataframe\">\n",
       "  <thead>\n",
       "    <tr style=\"text-align: right;\">\n",
       "      <th></th>\n",
       "      <th>modelid</th>\n",
       "      <th>modelversion</th>\n",
       "      <th>testdatasetid</th>\n",
       "      <th>isreferenceresult</th>\n",
       "      <th>runtime</th>\n",
       "      <th>runid</th>\n",
       "      <th>metric</th>\n",
       "      <th>value</th>\n",
       "      <th>valueerror</th>\n",
       "      <th>resultmessage</th>\n",
       "    </tr>\n",
       "  </thead>\n",
       "  <tbody>\n",
       "    <tr>\n",
       "      <th>0</th>\n",
       "      <td>1</td>\n",
       "      <td>0.0.1</td>\n",
       "      <td>2</td>\n",
       "      <td>1</td>\n",
       "      <td>2020-01-01</td>\n",
       "      <td>1</td>\n",
       "      <td>jan_births</td>\n",
       "      <td>23.0</td>\n",
       "      <td>None</td>\n",
       "      <td>None</td>\n",
       "    </tr>\n",
       "    <tr>\n",
       "      <th>1</th>\n",
       "      <td>1</td>\n",
       "      <td>0.0.1</td>\n",
       "      <td>2</td>\n",
       "      <td>1</td>\n",
       "      <td>2020-01-01</td>\n",
       "      <td>1</td>\n",
       "      <td>aug_births</td>\n",
       "      <td>13.0</td>\n",
       "      <td>None</td>\n",
       "      <td>None</td>\n",
       "    </tr>\n",
       "    <tr>\n",
       "      <th>2</th>\n",
       "      <td>1</td>\n",
       "      <td>0.0.1</td>\n",
       "      <td>2</td>\n",
       "      <td>1</td>\n",
       "      <td>2020-01-01</td>\n",
       "      <td>1</td>\n",
       "      <td>born_60</td>\n",
       "      <td>1.0</td>\n",
       "      <td>None</td>\n",
       "      <td>None</td>\n",
       "    </tr>\n",
       "    <tr>\n",
       "      <th>3</th>\n",
       "      <td>1</td>\n",
       "      <td>0.0.1</td>\n",
       "      <td>2</td>\n",
       "      <td>1</td>\n",
       "      <td>2020-01-01</td>\n",
       "      <td>1</td>\n",
       "      <td>population_size</td>\n",
       "      <td>200.0</td>\n",
       "      <td>None</td>\n",
       "      <td>None</td>\n",
       "    </tr>\n",
       "    <tr>\n",
       "      <th>4</th>\n",
       "      <td>1</td>\n",
       "      <td>0.0.1</td>\n",
       "      <td>2</td>\n",
       "      <td>1</td>\n",
       "      <td>2020-01-01</td>\n",
       "      <td>1</td>\n",
       "      <td>mortality</td>\n",
       "      <td>5.0</td>\n",
       "      <td>None</td>\n",
       "      <td>None</td>\n",
       "    </tr>\n",
       "  </tbody>\n",
       "</table>\n",
       "</div>"
      ],
      "text/plain": [
       "   modelid modelversion  testdatasetid isreferenceresult    runtime  runid  \\\n",
       "0        1        0.0.1              2                 1 2020-01-01      1   \n",
       "1        1        0.0.1              2                 1 2020-01-01      1   \n",
       "2        1        0.0.1              2                 1 2020-01-01      1   \n",
       "3        1        0.0.1              2                 1 2020-01-01      1   \n",
       "4        1        0.0.1              2                 1 2020-01-01      1   \n",
       "\n",
       "            metric  value valueerror resultmessage  \n",
       "0       jan_births   23.0       None          None  \n",
       "1       aug_births   13.0       None          None  \n",
       "2          born_60    1.0       None          None  \n",
       "3  population_size  200.0       None          None  \n",
       "4        mortality    5.0       None          None  "
      ]
     },
     "execution_count": 3,
     "metadata": {},
     "output_type": "execute_result"
    }
   ],
   "source": [
    "results = pd.read_sql('SELECT * FROM results;', cnxn)\n",
    "results.head()"
   ]
  },
  {
   "cell_type": "markdown",
   "metadata": {},
   "source": [
    "## View a particular metric for a model across time and for different versions"
   ]
  },
  {
   "cell_type": "code",
   "execution_count": 25,
   "metadata": {},
   "outputs": [
    {
     "data": {
      "text/html": [
       "<div>\n",
       "<style scoped>\n",
       "    .dataframe tbody tr th:only-of-type {\n",
       "        vertical-align: middle;\n",
       "    }\n",
       "\n",
       "    .dataframe tbody tr th {\n",
       "        vertical-align: top;\n",
       "    }\n",
       "\n",
       "    .dataframe thead th {\n",
       "        text-align: right;\n",
       "    }\n",
       "</style>\n",
       "<table border=\"1\" class=\"dataframe\">\n",
       "  <thead>\n",
       "    <tr style=\"text-align: right;\">\n",
       "      <th></th>\n",
       "      <th>metric</th>\n",
       "      <th>value</th>\n",
       "      <th>modelversion</th>\n",
       "      <th>databasename</th>\n",
       "    </tr>\n",
       "  </thead>\n",
       "  <tbody>\n",
       "    <tr>\n",
       "      <th>0</th>\n",
       "      <td>mortality</td>\n",
       "      <td>5.00</td>\n",
       "      <td>0.0.1</td>\n",
       "      <td>WEEK_01</td>\n",
       "    </tr>\n",
       "    <tr>\n",
       "      <th>1</th>\n",
       "      <td>mortality</td>\n",
       "      <td>5.00</td>\n",
       "      <td>0.0.1</td>\n",
       "      <td>WEEK_01</td>\n",
       "    </tr>\n",
       "    <tr>\n",
       "      <th>2</th>\n",
       "      <td>mortality</td>\n",
       "      <td>5.00</td>\n",
       "      <td>0.0.1</td>\n",
       "      <td>WEEK_02</td>\n",
       "    </tr>\n",
       "    <tr>\n",
       "      <th>3</th>\n",
       "      <td>mortality</td>\n",
       "      <td>4.75</td>\n",
       "      <td>0.0.1</td>\n",
       "      <td>WEEK_03</td>\n",
       "    </tr>\n",
       "    <tr>\n",
       "      <th>4</th>\n",
       "      <td>mortality</td>\n",
       "      <td>4.80</td>\n",
       "      <td>0.0.1</td>\n",
       "      <td>WEEK_04</td>\n",
       "    </tr>\n",
       "    <tr>\n",
       "      <th>5</th>\n",
       "      <td>mortality</td>\n",
       "      <td>5.00</td>\n",
       "      <td>0.0.1</td>\n",
       "      <td>WEEK_05</td>\n",
       "    </tr>\n",
       "    <tr>\n",
       "      <th>6</th>\n",
       "      <td>mortality</td>\n",
       "      <td>5.00</td>\n",
       "      <td>0.0.1</td>\n",
       "      <td>WEEK_06</td>\n",
       "    </tr>\n",
       "    <tr>\n",
       "      <th>7</th>\n",
       "      <td>mortality</td>\n",
       "      <td>5.00</td>\n",
       "      <td>0.0.1</td>\n",
       "      <td>WEEK_07</td>\n",
       "    </tr>\n",
       "    <tr>\n",
       "      <th>8</th>\n",
       "      <td>mortality</td>\n",
       "      <td>5.00</td>\n",
       "      <td>0.0.1</td>\n",
       "      <td>WEEK_08</td>\n",
       "    </tr>\n",
       "    <tr>\n",
       "      <th>9</th>\n",
       "      <td>mortality</td>\n",
       "      <td>5.00</td>\n",
       "      <td>0.0.1</td>\n",
       "      <td>WEEK_09</td>\n",
       "    </tr>\n",
       "    <tr>\n",
       "      <th>10</th>\n",
       "      <td>mortality</td>\n",
       "      <td>5.20</td>\n",
       "      <td>0.0.1</td>\n",
       "      <td>WEEK_10</td>\n",
       "    </tr>\n",
       "  </tbody>\n",
       "</table>\n",
       "</div>"
      ],
      "text/plain": [
       "       metric  value modelversion databasename\n",
       "0   mortality   5.00        0.0.1      WEEK_01\n",
       "1   mortality   5.00        0.0.1      WEEK_01\n",
       "2   mortality   5.00        0.0.1      WEEK_02\n",
       "3   mortality   4.75        0.0.1      WEEK_03\n",
       "4   mortality   4.80        0.0.1      WEEK_04\n",
       "5   mortality   5.00        0.0.1      WEEK_05\n",
       "6   mortality   5.00        0.0.1      WEEK_06\n",
       "7   mortality   5.00        0.0.1      WEEK_07\n",
       "8   mortality   5.00        0.0.1      WEEK_08\n",
       "9   mortality   5.00        0.0.1      WEEK_09\n",
       "10  mortality   5.20        0.0.1      WEEK_10"
      ]
     },
     "execution_count": 25,
     "metadata": {},
     "output_type": "execute_result"
    }
   ],
   "source": [
    "metric = 'mortality'\n",
    "model = 1\n",
    "query = \"\"\"\n",
    "SELECT r.metric, r.value, r.modelversion, d.databasename\n",
    "FROM results AS r, datasets AS d\n",
    "WHERE modelID={}\n",
    "AND r.testdatasetid = d.datasetid\n",
    "AND metric='{}';\n",
    "\"\"\".format(model, metric)\n",
    "plot3_results = pd.read_sql(query, cnxn)\n",
    "plot3_results"
   ]
  },
  {
   "cell_type": "code",
   "execution_count": 26,
   "metadata": {},
   "outputs": [
    {
     "data": {
      "text/plain": [
       "<seaborn.axisgrid.FacetGrid at 0x7f94559a8ed0>"
      ]
     },
     "execution_count": 26,
     "metadata": {},
     "output_type": "execute_result"
    },
    {
     "data": {
      "image/png": "[encoded data removed]",
      "text/plain": [
       "<Figure size 463.625x360 with 1 Axes>"
      ]
     },
     "metadata": {
      "needs_background": "light"
     },
     "output_type": "display_data"
    }
   ],
   "source": [
    "chart = sns.relplot(x='databasename', y='value', hue='modelversion', data=plot3_results)\n",
    "chart.set_xticklabels(rotation=30)\n",
    "chart.set(xlabel='Database Version', ylabel=metric)\n",
    "chart"
   ]
  }
 ],
 "metadata": {
  "kernelspec": {
   "display_name": "Python 3",
   "language": "python",
   "name": "python3"
  },
  "language_info": {
   "codemirror_mode": {
    "name": "ipython",
    "version": 3
   },
   "file_extension": ".py",
   "mimetype": "text/x-python",
   "name": "python",
   "nbconvert_exporter": "python",
   "pygments_lexer": "ipython3",
   "version": "3.7.4"
  }
 },
 "nbformat": 4,
 "nbformat_minor": 2
}
