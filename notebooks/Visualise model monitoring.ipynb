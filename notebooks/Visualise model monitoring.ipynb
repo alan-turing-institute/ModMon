{
 "cells": [
  {
   "cell_type": "code",
   "execution_count": 1,
   "metadata": {},
   "outputs": [
    {
     "name": "stderr",
     "output_type": "stream",
     "text": [
      "/opt/anaconda3/lib/python3.7/site-packages/statsmodels/tools/_testing.py:19: FutureWarning: pandas.util.testing is deprecated. Use the functions in the public API at pandas.testing instead.\n",
      "  import pandas.util.testing as tm\n"
     ]
    }
   ],
   "source": [
    "import pyodbc\n",
    "import pandas as pd\n",
    "import seaborn as sns\n",
    "\n",
    "server = \"localhost,5432\"\n",
    "db_name = \"ModMon\"\n",
    "driver = \"/usr/local/lib/psqlodbcw.so\"\n",
    "\n",
    "cnxn = pyodbc.connect(\"DRIVER={\" + driver + \"};SERVER=\" + server + \";DATABASE=\" + db_name + \";Trusted_Connection=yes;\")\n",
    "cursor = cnxn.cursor()"
   ]
  },
  {
   "cell_type": "code",
   "execution_count": 6,
   "metadata": {},
   "outputs": [
    {
     "data": {
      "text/html": [
       "<div>\n",
       "<style scoped>\n",
       "    .dataframe tbody tr th:only-of-type {\n",
       "        vertical-align: middle;\n",
       "    }\n",
       "\n",
       "    .dataframe tbody tr th {\n",
       "        vertical-align: top;\n",
       "    }\n",
       "\n",
       "    .dataframe thead th {\n",
       "        text-align: right;\n",
       "    }\n",
       "</style>\n",
       "<table border=\"1\" class=\"dataframe\">\n",
       "  <thead>\n",
       "    <tr style=\"text-align: right;\">\n",
       "      <th></th>\n",
       "      <th>modelid</th>\n",
       "      <th>name</th>\n",
       "      <th>teamname</th>\n",
       "      <th>description</th>\n",
       "      <th>question</th>\n",
       "    </tr>\n",
       "  </thead>\n",
       "  <tbody>\n",
       "    <tr>\n",
       "      <th>0</th>\n",
       "      <td>1</td>\n",
       "      <td>wine-lightgbm</td>\n",
       "      <td>REG2</td>\n",
       "      <td>Model to assess wine quality</td>\n",
       "      <td>Investigate WHITE wine quality dataset</td>\n",
       "    </tr>\n",
       "    <tr>\n",
       "      <th>1</th>\n",
       "      <td>2</td>\n",
       "      <td>wine-R</td>\n",
       "      <td>REG2</td>\n",
       "      <td>Model to assess wine quality</td>\n",
       "      <td>Investigate WHITE wine quality dataset</td>\n",
       "    </tr>\n",
       "    <tr>\n",
       "      <th>2</th>\n",
       "      <td>3</td>\n",
       "      <td>WineQuality1</td>\n",
       "      <td>REG</td>\n",
       "      <td>Model to assess wine quality</td>\n",
       "      <td>Investigate wine quality dataset</td>\n",
       "    </tr>\n",
       "  </tbody>\n",
       "</table>\n",
       "</div>"
      ],
      "text/plain": [
       "   modelid           name teamname                   description  \\\n",
       "0        1  wine-lightgbm     REG2  Model to assess wine quality   \n",
       "1        2         wine-R     REG2  Model to assess wine quality   \n",
       "2        3   WineQuality1      REG  Model to assess wine quality   \n",
       "\n",
       "                                 question  \n",
       "0  Investigate WHITE wine quality dataset  \n",
       "1  Investigate WHITE wine quality dataset  \n",
       "2        Investigate wine quality dataset  "
      ]
     },
     "execution_count": 6,
     "metadata": {},
     "output_type": "execute_result"
    }
   ],
   "source": [
    "models = pd.read_sql('SELECT models.modelID, models.name, models.teamName, models.description, researchQuestions.description AS question FROM models, researchQuestions WHERE models.questionID=researchQuestions.questionID;', cnxn)\n",
    "models"
   ]
  },
  {
   "cell_type": "markdown",
   "metadata": {},
   "source": [
    "Visualisation ideas\n",
    "=="
   ]
  },
  {
   "cell_type": "code",
   "execution_count": 3,
   "metadata": {},
   "outputs": [
    {
     "data": {
      "text/html": [
       "<div>\n",
       "<style scoped>\n",
       "    .dataframe tbody tr th:only-of-type {\n",
       "        vertical-align: middle;\n",
       "    }\n",
       "\n",
       "    .dataframe tbody tr th {\n",
       "        vertical-align: top;\n",
       "    }\n",
       "\n",
       "    .dataframe thead th {\n",
       "        text-align: right;\n",
       "    }\n",
       "</style>\n",
       "<table border=\"1\" class=\"dataframe\">\n",
       "  <thead>\n",
       "    <tr style=\"text-align: right;\">\n",
       "      <th></th>\n",
       "      <th>modelid</th>\n",
       "      <th>modelversion</th>\n",
       "      <th>testdatasetid</th>\n",
       "      <th>isreferenceresult</th>\n",
       "      <th>runtime</th>\n",
       "      <th>runid</th>\n",
       "      <th>metric</th>\n",
       "      <th>value</th>\n",
       "      <th>valueerror</th>\n",
       "      <th>resultmessage</th>\n",
       "    </tr>\n",
       "  </thead>\n",
       "  <tbody>\n",
       "    <tr>\n",
       "      <th>0</th>\n",
       "      <td>1</td>\n",
       "      <td>0.0.1</td>\n",
       "      <td>2</td>\n",
       "      <td>1</td>\n",
       "      <td>2020-07-11</td>\n",
       "      <td>1</td>\n",
       "      <td>correct_class</td>\n",
       "      <td>0.512000</td>\n",
       "      <td>None</td>\n",
       "      <td>None</td>\n",
       "    </tr>\n",
       "    <tr>\n",
       "      <th>1</th>\n",
       "      <td>1</td>\n",
       "      <td>0.0.1</td>\n",
       "      <td>2</td>\n",
       "      <td>1</td>\n",
       "      <td>2020-07-11</td>\n",
       "      <td>1</td>\n",
       "      <td>mean_log_loss</td>\n",
       "      <td>2.292328</td>\n",
       "      <td>None</td>\n",
       "      <td>None</td>\n",
       "    </tr>\n",
       "    <tr>\n",
       "      <th>2</th>\n",
       "      <td>2</td>\n",
       "      <td>0.0.1</td>\n",
       "      <td>4</td>\n",
       "      <td>1</td>\n",
       "      <td>2020-07-11</td>\n",
       "      <td>2</td>\n",
       "      <td>RMSE</td>\n",
       "      <td>0.740381</td>\n",
       "      <td>None</td>\n",
       "      <td>None</td>\n",
       "    </tr>\n",
       "    <tr>\n",
       "      <th>3</th>\n",
       "      <td>2</td>\n",
       "      <td>0.0.1</td>\n",
       "      <td>4</td>\n",
       "      <td>1</td>\n",
       "      <td>2020-07-11</td>\n",
       "      <td>2</td>\n",
       "      <td>Rsquare</td>\n",
       "      <td>0.332505</td>\n",
       "      <td>None</td>\n",
       "      <td>None</td>\n",
       "    </tr>\n",
       "    <tr>\n",
       "      <th>4</th>\n",
       "      <td>3</td>\n",
       "      <td>1.0.0</td>\n",
       "      <td>6</td>\n",
       "      <td>1</td>\n",
       "      <td>2020-07-11</td>\n",
       "      <td>3</td>\n",
       "      <td>training_time</td>\n",
       "      <td>0.021165</td>\n",
       "      <td>None</td>\n",
       "      <td>None</td>\n",
       "    </tr>\n",
       "  </tbody>\n",
       "</table>\n",
       "</div>"
      ],
      "text/plain": [
       "   modelid modelversion  testdatasetid isreferenceresult    runtime  runid  \\\n",
       "0        1        0.0.1              2                 1 2020-07-11      1   \n",
       "1        1        0.0.1              2                 1 2020-07-11      1   \n",
       "2        2        0.0.1              4                 1 2020-07-11      2   \n",
       "3        2        0.0.1              4                 1 2020-07-11      2   \n",
       "4        3        1.0.0              6                 1 2020-07-11      3   \n",
       "\n",
       "          metric     value valueerror resultmessage  \n",
       "0  correct_class  0.512000       None          None  \n",
       "1  mean_log_loss  2.292328       None          None  \n",
       "2           RMSE  0.740381       None          None  \n",
       "3        Rsquare  0.332505       None          None  \n",
       "4  training_time  0.021165       None          None  "
      ]
     },
     "execution_count": 3,
     "metadata": {},
     "output_type": "execute_result"
    }
   ],
   "source": [
    "results = pd.read_sql('SELECT * FROM results;', cnxn)\n",
    "results.head()"
   ]
  },
  {
   "cell_type": "markdown",
   "metadata": {},
   "source": [
    "## View a particular model version - all metrics across time\n",
    "\n",
    "- Use runID as a proxy for time"
   ]
  },
  {
   "cell_type": "code",
   "execution_count": 22,
   "metadata": {},
   "outputs": [],
   "source": [
    "plot1_results = pd.read_sql(\"SELECT * FROM results WHERE modelID=3 AND modelVersion='1.1.0';\", cnxn)"
   ]
  },
  {
   "cell_type": "code",
   "execution_count": 23,
   "metadata": {},
   "outputs": [
    {
     "data": {
      "text/plain": [
       "<seaborn.axisgrid.FacetGrid at 0x7ffc09f5ce90>"
      ]
     },
     "execution_count": 23,
     "metadata": {},
     "output_type": "execute_result"
    },
    {
     "data": {
      "image/png": "[encoded data removed]",
      "text/plain": [
       "<Figure size 462.5x360 with 1 Axes>"
      ]
     },
     "metadata": {
      "needs_background": "light"
     },
     "output_type": "display_data"
    }
   ],
   "source": [
    "sns.relplot(x='runid', y='value', hue='metric', data=plot1_results)"
   ]
  },
  {
   "cell_type": "markdown",
   "metadata": {},
   "source": [
    "## View a particular model - all metrics across versions"
   ]
  },
  {
   "cell_type": "code",
   "execution_count": 24,
   "metadata": {},
   "outputs": [],
   "source": [
    "plot2_results = pd.read_sql(\"SELECT * FROM results WHERE modelID=3;\", cnxn)"
   ]
  },
  {
   "cell_type": "code",
   "execution_count": 26,
   "metadata": {},
   "outputs": [
    {
     "data": {
      "text/plain": [
       "<seaborn.axisgrid.FacetGrid at 0x7ffc09e91d50>"
      ]
     },
     "execution_count": 26,
     "metadata": {},
     "output_type": "execute_result"
    },
    {
     "data": {
      "image/png": "[encoded data removed]",
      "text/plain": [
       "<Figure size 462.5x360 with 1 Axes>"
      ]
     },
     "metadata": {
      "needs_background": "light"
     },
     "output_type": "display_data"
    }
   ],
   "source": [
    "sns.catplot(x='modelversion', y='value', hue='metric', kind='swarm', data=plot2_results)"
   ]
  },
  {
   "cell_type": "markdown",
   "metadata": {},
   "source": [
    "## View a particular research question - all models for a metric common to all across time\n",
    "\n",
    "- Also inlcude model versions?"
   ]
  },
  {
   "cell_type": "code",
   "execution_count": null,
   "metadata": {},
   "outputs": [],
   "source": [
    "###"
   ]
  },
  {
   "cell_type": "markdown",
   "metadata": {},
   "source": [
    "## View a particular metric for a model across time and for different versions"
   ]
  },
  {
   "cell_type": "code",
   "execution_count": 29,
   "metadata": {},
   "outputs": [
    {
     "data": {
      "text/html": [
       "<div>\n",
       "<style scoped>\n",
       "    .dataframe tbody tr th:only-of-type {\n",
       "        vertical-align: middle;\n",
       "    }\n",
       "\n",
       "    .dataframe tbody tr th {\n",
       "        vertical-align: top;\n",
       "    }\n",
       "\n",
       "    .dataframe thead th {\n",
       "        text-align: right;\n",
       "    }\n",
       "</style>\n",
       "<table border=\"1\" class=\"dataframe\">\n",
       "  <thead>\n",
       "    <tr style=\"text-align: right;\">\n",
       "      <th></th>\n",
       "      <th>modelid</th>\n",
       "      <th>modelversion</th>\n",
       "      <th>testdatasetid</th>\n",
       "      <th>isreferenceresult</th>\n",
       "      <th>runtime</th>\n",
       "      <th>runid</th>\n",
       "      <th>metric</th>\n",
       "      <th>value</th>\n",
       "      <th>valueerror</th>\n",
       "      <th>resultmessage</th>\n",
       "    </tr>\n",
       "  </thead>\n",
       "  <tbody>\n",
       "    <tr>\n",
       "      <th>0</th>\n",
       "      <td>3</td>\n",
       "      <td>1.0.0</td>\n",
       "      <td>6</td>\n",
       "      <td>1</td>\n",
       "      <td>2020-07-11 00:00:00.000000</td>\n",
       "      <td>3</td>\n",
       "      <td>r2</td>\n",
       "      <td>0.275405</td>\n",
       "      <td>None</td>\n",
       "      <td>None</td>\n",
       "    </tr>\n",
       "    <tr>\n",
       "      <th>1</th>\n",
       "      <td>3</td>\n",
       "      <td>1.0.0</td>\n",
       "      <td>6</td>\n",
       "      <td>1</td>\n",
       "      <td>2020-07-11 00:00:00.000000</td>\n",
       "      <td>12</td>\n",
       "      <td>r2</td>\n",
       "      <td>0.274225</td>\n",
       "      <td>None</td>\n",
       "      <td>None</td>\n",
       "    </tr>\n",
       "    <tr>\n",
       "      <th>2</th>\n",
       "      <td>3</td>\n",
       "      <td>1.0.0</td>\n",
       "      <td>15</td>\n",
       "      <td>0</td>\n",
       "      <td>2020-06-22 10:40:38.111182</td>\n",
       "      <td>13</td>\n",
       "      <td>r2</td>\n",
       "      <td>0.267426</td>\n",
       "      <td>None</td>\n",
       "      <td>None</td>\n",
       "    </tr>\n",
       "    <tr>\n",
       "      <th>3</th>\n",
       "      <td>3</td>\n",
       "      <td>1.0.0</td>\n",
       "      <td>16</td>\n",
       "      <td>0</td>\n",
       "      <td>2020-06-22 10:41:47.163820</td>\n",
       "      <td>14</td>\n",
       "      <td>r2</td>\n",
       "      <td>0.273996</td>\n",
       "      <td>None</td>\n",
       "      <td>None</td>\n",
       "    </tr>\n",
       "    <tr>\n",
       "      <th>4</th>\n",
       "      <td>3</td>\n",
       "      <td>1.0.0</td>\n",
       "      <td>17</td>\n",
       "      <td>0</td>\n",
       "      <td>2020-06-22 10:41:55.026495</td>\n",
       "      <td>15</td>\n",
       "      <td>r2</td>\n",
       "      <td>0.268136</td>\n",
       "      <td>None</td>\n",
       "      <td>None</td>\n",
       "    </tr>\n",
       "    <tr>\n",
       "      <th>5</th>\n",
       "      <td>3</td>\n",
       "      <td>1.1.0</td>\n",
       "      <td>19</td>\n",
       "      <td>1</td>\n",
       "      <td>2020-07-11 00:00:00.000000</td>\n",
       "      <td>16</td>\n",
       "      <td>r2</td>\n",
       "      <td>0.269389</td>\n",
       "      <td>None</td>\n",
       "      <td>None</td>\n",
       "    </tr>\n",
       "    <tr>\n",
       "      <th>6</th>\n",
       "      <td>3</td>\n",
       "      <td>1.1.0</td>\n",
       "      <td>20</td>\n",
       "      <td>0</td>\n",
       "      <td>2020-06-22 10:52:15.590548</td>\n",
       "      <td>17</td>\n",
       "      <td>r2</td>\n",
       "      <td>0.271383</td>\n",
       "      <td>None</td>\n",
       "      <td>None</td>\n",
       "    </tr>\n",
       "    <tr>\n",
       "      <th>7</th>\n",
       "      <td>3</td>\n",
       "      <td>1.1.0</td>\n",
       "      <td>21</td>\n",
       "      <td>0</td>\n",
       "      <td>2020-06-22 10:52:26.364253</td>\n",
       "      <td>18</td>\n",
       "      <td>r2</td>\n",
       "      <td>0.274502</td>\n",
       "      <td>None</td>\n",
       "      <td>None</td>\n",
       "    </tr>\n",
       "    <tr>\n",
       "      <th>8</th>\n",
       "      <td>3</td>\n",
       "      <td>1.1.0</td>\n",
       "      <td>22</td>\n",
       "      <td>0</td>\n",
       "      <td>2020-06-22 10:52:36.215912</td>\n",
       "      <td>19</td>\n",
       "      <td>r2</td>\n",
       "      <td>0.263649</td>\n",
       "      <td>None</td>\n",
       "      <td>None</td>\n",
       "    </tr>\n",
       "    <tr>\n",
       "      <th>9</th>\n",
       "      <td>3</td>\n",
       "      <td>1.1.0</td>\n",
       "      <td>23</td>\n",
       "      <td>0</td>\n",
       "      <td>2020-06-22 10:52:45.199244</td>\n",
       "      <td>20</td>\n",
       "      <td>r2</td>\n",
       "      <td>0.277086</td>\n",
       "      <td>None</td>\n",
       "      <td>None</td>\n",
       "    </tr>\n",
       "  </tbody>\n",
       "</table>\n",
       "</div>"
      ],
      "text/plain": [
       "   modelid modelversion  testdatasetid isreferenceresult  \\\n",
       "0        3        1.0.0              6                 1   \n",
       "1        3        1.0.0              6                 1   \n",
       "2        3        1.0.0             15                 0   \n",
       "3        3        1.0.0             16                 0   \n",
       "4        3        1.0.0             17                 0   \n",
       "5        3        1.1.0             19                 1   \n",
       "6        3        1.1.0             20                 0   \n",
       "7        3        1.1.0             21                 0   \n",
       "8        3        1.1.0             22                 0   \n",
       "9        3        1.1.0             23                 0   \n",
       "\n",
       "                     runtime  runid metric     value valueerror resultmessage  \n",
       "0 2020-07-11 00:00:00.000000      3     r2  0.275405       None          None  \n",
       "1 2020-07-11 00:00:00.000000     12     r2  0.274225       None          None  \n",
       "2 2020-06-22 10:40:38.111182     13     r2  0.267426       None          None  \n",
       "3 2020-06-22 10:41:47.163820     14     r2  0.273996       None          None  \n",
       "4 2020-06-22 10:41:55.026495     15     r2  0.268136       None          None  \n",
       "5 2020-07-11 00:00:00.000000     16     r2  0.269389       None          None  \n",
       "6 2020-06-22 10:52:15.590548     17     r2  0.271383       None          None  \n",
       "7 2020-06-22 10:52:26.364253     18     r2  0.274502       None          None  \n",
       "8 2020-06-22 10:52:36.215912     19     r2  0.263649       None          None  \n",
       "9 2020-06-22 10:52:45.199244     20     r2  0.277086       None          None  "
      ]
     },
     "execution_count": 29,
     "metadata": {},
     "output_type": "execute_result"
    }
   ],
   "source": [
    "plot3_results = pd.read_sql(\"SELECT * FROM results WHERE modelID=3 AND metric='r2';\", cnxn)\n",
    "plot3_results"
   ]
  },
  {
   "cell_type": "code",
   "execution_count": 32,
   "metadata": {},
   "outputs": [
    {
     "data": {
      "text/plain": [
       "<seaborn.axisgrid.FacetGrid at 0x7ffc0a803c10>"
      ]
     },
     "execution_count": 32,
     "metadata": {},
     "output_type": "execute_result"
    },
    {
     "data": {
      "image/png": "[encoded data removed]",
      "text/plain": [
       "<Figure size 463.625x360 with 1 Axes>"
      ]
     },
     "metadata": {
      "needs_background": "light"
     },
     "output_type": "display_data"
    }
   ],
   "source": [
    "sns.relplot(x='runid', y='value', hue='modelversion', data=plot3_results)"
   ]
  }
 ],
 "metadata": {
  "kernelspec": {
   "display_name": "Python 3",
   "language": "python",
   "name": "python3"
  },
  "language_info": {
   "codemirror_mode": {
    "name": "ipython",
    "version": 3
   },
   "file_extension": ".py",
   "mimetype": "text/x-python",
   "name": "python",
   "nbconvert_exporter": "python",
   "pygments_lexer": "ipython3",
   "version": "3.7.4"
  }
 },
 "nbformat": 4,
 "nbformat_minor": 2
}
